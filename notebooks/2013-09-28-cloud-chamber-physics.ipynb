{
 "metadata": {
  "name": "2013-09-28-cloud-chamber-physics"
 },
 "nbformat": 3,
 "nbformat_minor": 0,
 "worksheets": [
  {
   "cells": [
    {
     "cell_type": "markdown",
     "metadata": {},
     "source": [
      "# Cloud Chamber Physics\n",
      "\n",
      "At [Science Hack Day SF](http://sf.sciencehackday.com/about-shdsf/) 2013 there was a project to build a thermoelectric cooled [cloud chamber](http://en.wikipedia.org/wiki/Cloud_chamber). These are some notes about the hardware.\n",
      "\n",
      "\n",
      "## Thermoelectric Cooling\n",
      "\n",
      "The typical [thermoelectric cooler](http://en.wikipedia.org/wiki/Thermoelectric_effect) (TEC) will typically produce a maximum temperature difference of 70&deg;C. The amount of heat that can be absorbed is proportional to the current and time.\n",
      "\n",
      "$$\\begin{equation}\\dot Q = k_PI\\end{equation}$$\n",
      "\n",
      "where $\\dot Q$ is heat flow rate, $k_P$ is the Peltier coefficient of the TEC, and $I$ is the current.\n",
      "\n",
      "\n",
      "### Power\n",
      "\n",
      "So for a given heat rate and a known TEC we can guess the electrical power requirements.\n",
      "\n",
      "$$\\begin{equation}I = \\frac{\\dot Q}{k_P}\\end{equation}$$\n",
      "\n",
      "$$\\begin{align}\n",
      "P &= IV  \\nonumber \\\\\\\n",
      "  &= \\frac{V\\dot Q}{k_P}\n",
      "\\end{align}$$\n",
      "\n",
      "We can computer how big of a power supply we need for each TEC:"
     ]
    },
    {
     "cell_type": "code",
     "collapsed": false,
     "input": [
      "# Define TECs\n",
      "TEC_12 = {\n",
      "    'v': 12,     # 12 volt version, TEC1-12710\n",
      "    'kp': 9.6,   # pelter coef\n",
      "}\n",
      "\n",
      "TEC_5 = {\n",
      "    'v': 5,     # 5 volt version\n",
      "    'kp': 9.6,  # pelter coef\n",
      "}\n",
      "\n",
      "# calc power\n",
      "def power(Q, tec):\n",
      "    v = tec['v']\n",
      "    k = tec['kp']\n",
      "    return (v*Q)/k"
     ],
     "language": "python",
     "metadata": {},
     "outputs": [],
     "prompt_number": 1
    },
    {
     "cell_type": "markdown",
     "metadata": {},
     "source": [
      "We want to suck the maximum power from both, which according to the datasheets is about 90 Watts(thermal)"
     ]
    },
    {
     "cell_type": "code",
     "collapsed": false,
     "input": [
      "print \"Power supply for bottom TEC: \", power(90, TEC_12), '  Watts'\n",
      "print \"Power supply for top TEC      \", power(90, TEC_5), 'Watts' "
     ],
     "language": "python",
     "metadata": {},
     "outputs": [
      {
       "output_type": "stream",
       "stream": "stdout",
       "text": [
        "Power supply for bottom TEC:  112.5   Watts\n",
        "Power supply for top TEC       46.875 Watts\n"
       ]
      }
     ],
     "prompt_number": 2
    },
    {
     "cell_type": "markdown",
     "metadata": {},
     "source": [
      "Luckily we have two ~100 watt power supplies.\n",
      "\n",
      " - [Download this notebook](https://raw.github.com/natronics/natronics.github.com/master/notebooks/2013-09-28-cloud-chamber-physics.ipynb)\n",
      " - [View on nbviewer](http://nbviewer.ipython.org/urls/raw.github.com/natronics/natronics.github.com/master/notebooks/2013-09-28-cloud-chamber-physics.ipynb)"
     ]
    }
   ],
   "metadata": {}
  }
 ]
}