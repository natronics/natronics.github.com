{
 "metadata": {
  "name": "iss-speed"
 },
 "nbformat": 3,
 "nbformat_minor": 0,
 "worksheets": [
  {
   "cells": [
    {
     "cell_type": "markdown",
     "metadata": {},
     "source": [
      "# How Far Does the ISS Go In ...\n",
      "\n",
      "The [International Space Station](http://www.nasa.gov/audience/forstudents/k-4/stories/what-is-the-iss-k4.html) is in low Earth orbit traveling almost 8 km/s relative to the the surface of the Earth. Just how fast is that?\n",
      "\n",
      "## ISS Speed\n",
      "\n",
      "The average height of the ISS is around 413 km<sup>[<a href=\"#ref1\">1</a>]</sup>. For a circular orbit around the Earth orbital speed is\n",
      "\n",
      "$$v = \\sqrt{\\frac{G~M_{Earth}}{r}}$$"
     ]
    },
    {
     "cell_type": "code",
     "collapsed": false,
     "input": [
      "from math import sqrt\n",
      "\n",
      "G = 6.67384e-11   # m3 kg-1 s-2  Gravitational Constant\n",
      "M = 5.972e24      # kg  Mass of the Earth\n",
      "R_e = 6371e3      # m   Radius of the Earth\n",
      "R_iss = 412e3     # m   Height of the ISS\n",
      "\n",
      "v_iss = sqrt((G*M)/(R_e + R_iss))\n",
      "\n",
      "print \"%0.0f m/s\" % v_iss"
     ],
     "language": "python",
     "metadata": {},
     "outputs": [
      {
       "output_type": "stream",
       "stream": "stdout",
       "text": [
        "7665 m/s\n"
       ]
      }
     ],
     "prompt_number": 1
    },
    {
     "cell_type": "markdown",
     "metadata": {},
     "source": [
      "At that speed, how far does the ISS go in x seconds? We can make a little convenience function"
     ]
    },
    {
     "cell_type": "code",
     "collapsed": false,
     "input": [
      "def iss(s):\n",
      "    return v_iss * s # speed times time in seconds\n",
      "\n",
      "print \"In one tenth of a second the ISS moves %0.1f meters\" % iss(0.1)"
     ],
     "language": "python",
     "metadata": {},
     "outputs": [
      {
       "output_type": "stream",
       "stream": "stdout",
       "text": [
        "In one tenth of a second the ISS moves 766.5 meters\n"
       ]
      }
     ],
     "prompt_number": 2
    },
    {
     "cell_type": "markdown",
     "metadata": {},
     "source": [
      "## Faster than a speeding bullet\n",
      "\n",
      "Lets say we have a pretty standard 22 rifle with a 0.48 meter long barel.<sup>[<a href=\"ref2\">2</a>]</sup> Lets use standard .22 LR rounds which have a muzzle velocity of about 343 m/s.<sup>[<a href=\"ref3\">3</a>]</sup> If we assume that the bullet accelerates smoothly in the barrel then it should take\n",
      "\n",
      "$$t = \\frac{2x}{v_{muzzle}}$$\n",
      "\n",
      "seconds to leave the end of the rifle after pulling the trigger."
     ]
    },
    {
     "cell_type": "code",
     "collapsed": false,
     "input": [
      "x = 0.48   # m  muzzle length\n",
      "v = 343.0  # m/s muzzle velocity\n",
      "\n",
      "t = (2*x)/v\n",
      "\n",
      "print \"A .22 LR takes about %0.5f seconds to leave the barrel\" % t"
     ],
     "language": "python",
     "metadata": {},
     "outputs": [
      {
       "output_type": "stream",
       "stream": "stdout",
       "text": [
        "A .22 LR takes about 0.00280 seconds to leave the barrel\n"
       ]
      }
     ],
     "prompt_number": 3
    },
    {
     "cell_type": "markdown",
     "metadata": {},
     "source": [
      "Meanwhile the ISS has been traveling ..."
     ]
    },
    {
     "cell_type": "code",
     "collapsed": false,
     "input": [
      "print \"In that time the ISS moves %0.1f meters\" % iss(t)"
     ],
     "language": "python",
     "metadata": {},
     "outputs": [
      {
       "output_type": "stream",
       "stream": "stdout",
       "text": [
        "In that time the ISS moves 21.5 meters\n"
       ]
      }
     ],
     "prompt_number": 4
    },
    {
     "cell_type": "markdown",
     "metadata": {},
     "source": [
      "# References\n",
      "\n",
      "<a name=\"ref1\">[1]</a> Height of the ISS <http://www.heavens-above.com/IssHeight.aspx>\n",
      "\n",
      "<a name=\"ref2\">[2]</a> Ruger 10/22 <http://www.ruger.com/products/1022Sporter/models.html>\n",
      "\n",
      "<a name=\"ref3\">[3]</a> .22 LR Standard Velocity <http://en.wikipedia.org/wiki/.22_Long_Rifle#Standard_velocity>"
     ]
    },
    {
     "cell_type": "markdown",
     "metadata": {},
     "source": []
    }
   ],
   "metadata": {}
  }
 ]
}
